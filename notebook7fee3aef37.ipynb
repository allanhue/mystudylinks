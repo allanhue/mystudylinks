{
 "cells": [
  {
   "cell_type": "code",
   "execution_count": 1,
   "id": "bd4bc123",
   "metadata": {
    "execution": {
     "iopub.execute_input": "2025-08-27T07:50:31.093582Z",
     "iopub.status.busy": "2025-08-27T07:50:31.093121Z",
     "iopub.status.idle": "2025-08-27T07:50:32.021574Z",
     "shell.execute_reply": "2025-08-27T07:50:32.020171Z"
    },
    "papermill": {
     "duration": 0.934566,
     "end_time": "2025-08-27T07:50:32.023804",
     "exception": false,
     "start_time": "2025-08-27T07:50:31.089238",
     "status": "completed"
    },
    "tags": []
   },
   "outputs": [
    {
     "name": "stdout",
     "output_type": "stream",
     "text": [
      "CSV file created at: social_and_health_deductions.csv\n"
     ]
    }
   ],
   "source": [
    "import pandas as pd\n",
    "\n",
    "# The user wants this information in a spreadsheet, so I'll create a DataFrame.\n",
    "data = {\n",
    "    'Country': [\n",
    "        'Kenya', 'Uganda', 'Tanzania', 'Rwanda', 'Sudan', 'Netherlands', 'United Arab Emirates (UAE)'\n",
    "    ],\n",
    "    'Summary of Deductions/Taxes': [\n",
    "        'Employees contribute 2.75% of gross salary to the Social Health Insurance Fund (SHIF), deducted by employers. Employers also have obligations to match or remit contributions. However, a recent 2025 High Court ruling declared the 2.75% SHIF deduction unconstitutional as it constituted double taxation.',\n",
    "        'Formal sector employees contribute 4% of salary monthly to health insurance, with employers contributing 1%. Pensioners contribute 1% of pensions. The National Social Security Fund (NSSF) contributions are 5% by employees and 10% by employers (total 15%).',\n",
    "        'Social Health Insurance and National Social Security Fund (NSSF) schemes exist but coverage is uneven. National legislation mandates mandatory health insurance with penalties for non-compliance, but enforcement and affordability remain challenges, especially for informal and rural populations.',\n",
    "        'Rwanda has a community-based health insurance (CBHI) scheme with premiums varying by economic category: poorest paid by government, middle group pays around USD 4.35 per year per person, and the better off pay about USD 10.34 per year. Social security provides multiple schemes including maternity and occupational hazards.',\n",
    "        'Employers and employees contribute to the National Health Insurance Fund (NHIF) and social security. Formal sector contributions amount to 10% of salaries (4% employee, 6% employer). Private supplementary insurance often provided by employers.',\n",
    "        'Social security contributions include employee insurance and national insurance tax capped annually. Health insurance is compulsory with nominal and income-related contributions: about EUR 1,900 nominal plus 6.51% income-related contributions capped at EUR 4,938 annually paid by employers.',\n",
    "        'Social insurance mainly covers UAE and GCC nationals with contributions totaling around 20-26% of gross salary (5% employee, 12.5-15% employer, government contributes 2.5-6%). Expatriates usually receive end-of-service gratuities instead of mandatory social security pensions.'\n",
    "    ]\n",
    "}\n",
    "\n",
    "# Create the DataFrame\n",
    "df = pd.DataFrame(data)\n",
    "\n",
    "# Save the DataFrame to a CSV file.\n",
    "file_path = 'social_and_health_deductions.csv'\n",
    "df.to_csv(file_path, index=False)\n",
    "\n",
    "\n",
    "print(f'CSV file created at: {file_path}')"
   ]
  },
  {
   "cell_type": "code",
   "execution_count": 2,
   "id": "dd1014aa",
   "metadata": {
    "execution": {
     "iopub.execute_input": "2025-08-27T07:50:32.029694Z",
     "iopub.status.busy": "2025-08-27T07:50:32.028899Z",
     "iopub.status.idle": "2025-08-27T07:50:32.038780Z",
     "shell.execute_reply": "2025-08-27T07:50:32.037426Z"
    },
    "papermill": {
     "duration": 0.015403,
     "end_time": "2025-08-27T07:50:32.041259",
     "exception": false,
     "start_time": "2025-08-27T07:50:32.025856",
     "status": "completed"
    },
    "tags": []
   },
   "outputs": [],
   "source": [
    "#start the datast in an env excel if cmd\n",
    "import os\n",
    "#read the data to present \n",
    "data_latest=pd.read_csv('social_and_health_deductions.csv')"
   ]
  },
  {
   "cell_type": "code",
   "execution_count": 3,
   "id": "1f9e7a68",
   "metadata": {
    "execution": {
     "iopub.execute_input": "2025-08-27T07:50:32.046889Z",
     "iopub.status.busy": "2025-08-27T07:50:32.045976Z",
     "iopub.status.idle": "2025-08-27T07:50:32.065858Z",
     "shell.execute_reply": "2025-08-27T07:50:32.064734Z"
    },
    "papermill": {
     "duration": 0.025068,
     "end_time": "2025-08-27T07:50:32.068214",
     "exception": false,
     "start_time": "2025-08-27T07:50:32.043146",
     "status": "completed"
    },
    "tags": []
   },
   "outputs": [
    {
     "data": {
      "text/html": [
       "<div>\n",
       "<style scoped>\n",
       "    .dataframe tbody tr th:only-of-type {\n",
       "        vertical-align: middle;\n",
       "    }\n",
       "\n",
       "    .dataframe tbody tr th {\n",
       "        vertical-align: top;\n",
       "    }\n",
       "\n",
       "    .dataframe thead th {\n",
       "        text-align: right;\n",
       "    }\n",
       "</style>\n",
       "<table border=\"1\" class=\"dataframe\">\n",
       "  <thead>\n",
       "    <tr style=\"text-align: right;\">\n",
       "      <th></th>\n",
       "      <th>Country</th>\n",
       "      <th>Summary of Deductions/Taxes</th>\n",
       "    </tr>\n",
       "  </thead>\n",
       "  <tbody>\n",
       "    <tr>\n",
       "      <th>0</th>\n",
       "      <td>Kenya</td>\n",
       "      <td>Employees contribute 2.75% of gross salary to ...</td>\n",
       "    </tr>\n",
       "    <tr>\n",
       "      <th>1</th>\n",
       "      <td>Uganda</td>\n",
       "      <td>Formal sector employees contribute 4% of salar...</td>\n",
       "    </tr>\n",
       "    <tr>\n",
       "      <th>2</th>\n",
       "      <td>Tanzania</td>\n",
       "      <td>Social Health Insurance and National Social Se...</td>\n",
       "    </tr>\n",
       "    <tr>\n",
       "      <th>3</th>\n",
       "      <td>Rwanda</td>\n",
       "      <td>Rwanda has a community-based health insurance ...</td>\n",
       "    </tr>\n",
       "    <tr>\n",
       "      <th>4</th>\n",
       "      <td>Sudan</td>\n",
       "      <td>Employers and employees contribute to the Nati...</td>\n",
       "    </tr>\n",
       "    <tr>\n",
       "      <th>5</th>\n",
       "      <td>Netherlands</td>\n",
       "      <td>Social security contributions include employee...</td>\n",
       "    </tr>\n",
       "    <tr>\n",
       "      <th>6</th>\n",
       "      <td>United Arab Emirates (UAE)</td>\n",
       "      <td>Social insurance mainly covers UAE and GCC nat...</td>\n",
       "    </tr>\n",
       "  </tbody>\n",
       "</table>\n",
       "</div>"
      ],
      "text/plain": [
       "                      Country  \\\n",
       "0                       Kenya   \n",
       "1                      Uganda   \n",
       "2                    Tanzania   \n",
       "3                      Rwanda   \n",
       "4                       Sudan   \n",
       "5                 Netherlands   \n",
       "6  United Arab Emirates (UAE)   \n",
       "\n",
       "                         Summary of Deductions/Taxes  \n",
       "0  Employees contribute 2.75% of gross salary to ...  \n",
       "1  Formal sector employees contribute 4% of salar...  \n",
       "2  Social Health Insurance and National Social Se...  \n",
       "3  Rwanda has a community-based health insurance ...  \n",
       "4  Employers and employees contribute to the Nati...  \n",
       "5  Social security contributions include employee...  \n",
       "6  Social insurance mainly covers UAE and GCC nat...  "
      ]
     },
     "execution_count": 3,
     "metadata": {},
     "output_type": "execute_result"
    }
   ],
   "source": [
    "#print the data \n",
    "data_latest"
   ]
  }
 ],
 "metadata": {
  "kaggle": {
   "accelerator": "none",
   "dataSources": [],
   "dockerImageVersionId": 30746,
   "isGpuEnabled": false,
   "isInternetEnabled": true,
   "language": "python",
   "sourceType": "notebook"
  },
  "kernelspec": {
   "display_name": "Python 3",
   "language": "python",
   "name": "python3"
  },
  "language_info": {
   "codemirror_mode": {
    "name": "ipython",
    "version": 3
   },
   "file_extension": ".py",
   "mimetype": "text/x-python",
   "name": "python",
   "nbconvert_exporter": "python",
   "pygments_lexer": "ipython3",
   "version": "3.10.13"
  },
  "papermill": {
   "default_parameters": {},
   "duration": 4.731909,
   "end_time": "2025-08-27T07:50:32.590917",
   "environment_variables": {},
   "exception": null,
   "input_path": "__notebook__.ipynb",
   "output_path": "__notebook__.ipynb",
   "parameters": {},
   "start_time": "2025-08-27T07:50:27.859008",
   "version": "2.5.0"
  }
 },
 "nbformat": 4,
 "nbformat_minor": 5
}
